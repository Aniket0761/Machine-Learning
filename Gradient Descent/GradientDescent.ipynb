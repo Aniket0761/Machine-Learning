{
 "cells": [
  {
   "cell_type": "code",
   "execution_count": 1,
   "metadata": {},
   "outputs": [],
   "source": [
    "import numpy as np"
   ]
  },
  {
   "cell_type": "code",
   "execution_count": 17,
   "metadata": {},
   "outputs": [],
   "source": [
    "def cost(data, m, c):\n",
    "    total_cost = 0\n",
    "    M = len(data)\n",
    "    for i in range(M):\n",
    "        x = data[i, 0]\n",
    "        y = data[i, 1]\n",
    "        total_cost += (1/M) * ((y - m * x - c) ** 2)\n",
    "    return total_cost"
   ]
  },
  {
   "cell_type": "code",
   "execution_count": 22,
   "metadata": {},
   "outputs": [],
   "source": [
    "def step_gd(data, learning_rate, m, c):\n",
    "    m_slope = 0\n",
    "    c_slope = 0\n",
    "    N = len(data)\n",
    "    \n",
    "    for i in range(N):\n",
    "        x = data[i, 0]\n",
    "        y = data[i, 1]\n",
    "        m_slope += (-2/N) * (y - m * x - c) * x\n",
    "        c_slope += (-2/N) * (y - m * x - c)\n",
    "        \n",
    "    new_m = m - learning_rate * m_slope\n",
    "    new_c = c - learning_rate * c_slope    \n",
    "    return new_m, new_c\n",
    "        "
   ]
  },
  {
   "cell_type": "code",
   "execution_count": 47,
   "metadata": {},
   "outputs": [],
   "source": [
    "def gd(data, learning_rate, iterations):\n",
    "    m = 0\n",
    "    c = 0\n",
    "    for i in range(iterations):\n",
    "        m, c = step_gd(data, learning_rate, m, c)\n",
    "        print(i, 'Cost: ', cost(data, m, c))\n",
    "    return m, c"
   ]
  },
  {
   "cell_type": "code",
   "execution_count": 48,
   "metadata": {},
   "outputs": [],
   "source": [
    "def run():\n",
    "    data = np.loadtxt('train.csv', delimiter=',')\n",
    "    learning_rate = 0.0001\n",
    "    iterations = 10\n",
    "    m, c = gd(data, learning_rate, iterations)\n",
    "    print(m, c)"
   ]
  },
  {
   "cell_type": "code",
   "execution_count": 49,
   "metadata": {},
   "outputs": [
    {
     "name": "stdout",
     "output_type": "stream",
     "text": [
      "0 Cost:  375.45468139435457\n",
      "1 Cost:  48.41985488357798\n",
      "2 Cost:  12.34441532061135\n",
      "3 Cost:  8.364908150806482\n",
      "4 Cost:  7.925925612296183\n",
      "5 Cost:  7.877500809021863\n",
      "6 Cost:  7.872158701263876\n",
      "7 Cost:  7.871569075654185\n",
      "8 Cost:  7.87150369969006\n",
      "9 Cost:  7.871496154102535\n",
      "0.9988097707764878 0.014902639384471188\n"
     ]
    }
   ],
   "source": [
    "run()"
   ]
  },
  {
   "cell_type": "code",
   "execution_count": null,
   "metadata": {},
   "outputs": [],
   "source": []
  }
 ],
 "metadata": {
  "interpreter": {
   "hash": "aee8b7b246df8f9039afb4144a1f6fd8d2ca17a180786b69acc140d282b71a49"
  },
  "kernelspec": {
   "display_name": "Python 3.9.6 64-bit",
   "language": "python",
   "name": "python3"
  },
  "language_info": {
   "codemirror_mode": {
    "name": "ipython",
    "version": 3
   },
   "file_extension": ".py",
   "mimetype": "text/x-python",
   "name": "python",
   "nbconvert_exporter": "python",
   "pygments_lexer": "ipython3",
   "version": "3.9.6"
  },
  "orig_nbformat": 4
 },
 "nbformat": 4,
 "nbformat_minor": 2
}
